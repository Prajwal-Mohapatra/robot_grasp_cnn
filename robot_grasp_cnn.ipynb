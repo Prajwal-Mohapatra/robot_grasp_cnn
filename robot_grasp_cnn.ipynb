{
  "cells": [
    {
      "cell_type": "markdown",
      "metadata": {
        "id": "view-in-github",
        "colab_type": "text"
      },
      "source": [
        "<a href=\"https://colab.research.google.com/github/Prajwal-Mohapatra/robot_grasp_cnn/blob/branch3/robot_grasp_cnn.ipynb\" target=\"_parent\"><img src=\"https://colab.research.google.com/assets/colab-badge.svg\" alt=\"Open In Colab\"/></a>"
      ]
    },
    {
      "cell_type": "code",
      "execution_count": 1,
      "metadata": {
        "id": "TDKnDgEjzUKJ",
        "colab": {
          "base_uri": "https://localhost:8080/"
        },
        "outputId": "4cff1f5c-c365-4dd1-9219-5b496d938c4d"
      },
      "outputs": [
        {
          "output_type": "stream",
          "name": "stdout",
          "text": [
            "Please provide your Kaggle credentials to download this dataset. Learn more: http://bit.ly/kaggle-creds\n",
            "Your Kaggle username: prajwalmohapatra\n",
            "Your Kaggle Key: ··········\n",
            "Dataset URL: https://www.kaggle.com/datasets/oneoneliu/cornell-grasp\n",
            "Downloading cornell-grasp.zip to ./cornell-grasp\n"
          ]
        },
        {
          "output_type": "stream",
          "name": "stderr",
          "text": [
            "100%|██████████| 4.85G/4.85G [01:02<00:00, 82.7MB/s]"
          ]
        },
        {
          "output_type": "stream",
          "name": "stdout",
          "text": [
            "\n"
          ]
        },
        {
          "output_type": "stream",
          "name": "stderr",
          "text": [
            "\n"
          ]
        }
      ],
      "source": [
        "#@title Download Dataset\n",
        "!pip install opendatasets --quiet\n",
        "import opendatasets as od\n",
        "od.download(\"https://www.kaggle.com/datasets/oneoneliu/cornell-grasp\")"
      ]
    },
    {
      "cell_type": "code",
      "execution_count": 2,
      "metadata": {
        "colab": {
          "base_uri": "https://localhost:8080/"
        },
        "id": "yGjwlx7UI6y3",
        "outputId": "4f901335-78aa-4483-ab1c-651b12ca1a15"
      },
      "outputs": [
        {
          "output_type": "stream",
          "name": "stdout",
          "text": [
            "Cloning into 'robot_grasp_cnn'...\n",
            "remote: Enumerating objects: 348, done.\u001b[K\n",
            "remote: Counting objects: 100% (68/68), done.\u001b[K\n",
            "remote: Compressing objects: 100% (56/56), done.\u001b[K\n",
            "remote: Total 348 (delta 38), reused 11 (delta 11), pack-reused 280 (from 3)\u001b[K\n",
            "Receiving objects: 100% (348/348), 192.53 KiB | 995.00 KiB/s, done.\n",
            "Resolving deltas: 100% (167/167), done.\n",
            "/content/robot_grasp_cnn\n"
          ]
        }
      ],
      "source": [
        "#@title Clone Git Branch\n",
        "!git clone -b branch3 https://github.com/Prajwal-Mohapatra/robot_grasp_cnn.git\n",
        "%cd robot_grasp_cnn"
      ]
    },
    {
      "cell_type": "code",
      "execution_count": 3,
      "metadata": {
        "id": "ZrAQL_GUNCTB",
        "colab": {
          "base_uri": "https://localhost:8080/"
        },
        "outputId": "8e3b4f9c-5ba5-4546-99bd-32ca48d0d442"
      },
      "outputs": [
        {
          "output_type": "stream",
          "name": "stdout",
          "text": [
            "\u001b[2K   \u001b[90m━━━━━━━━━━━━━━━━━━━━━━━━━━━━━━━━━━━━━━━━\u001b[0m \u001b[32m363.4/363.4 MB\u001b[0m \u001b[31m2.2 MB/s\u001b[0m eta \u001b[36m0:00:00\u001b[0m\n",
            "\u001b[2K   \u001b[90m━━━━━━━━━━━━━━━━━━━━━━━━━━━━━━━━━━━━━━━━\u001b[0m \u001b[32m13.8/13.8 MB\u001b[0m \u001b[31m112.1 MB/s\u001b[0m eta \u001b[36m0:00:00\u001b[0m\n",
            "\u001b[2K   \u001b[90m━━━━━━━━━━━━━━━━━━━━━━━━━━━━━━━━━━━━━━━━\u001b[0m \u001b[32m24.6/24.6 MB\u001b[0m \u001b[31m99.1 MB/s\u001b[0m eta \u001b[36m0:00:00\u001b[0m\n",
            "\u001b[2K   \u001b[90m━━━━━━━━━━━━━━━━━━━━━━━━━━━━━━━━━━━━━━━━\u001b[0m \u001b[32m883.7/883.7 kB\u001b[0m \u001b[31m52.6 MB/s\u001b[0m eta \u001b[36m0:00:00\u001b[0m\n",
            "\u001b[2K   \u001b[90m━━━━━━━━━━━━━━━━━━━━━━━━━━━━━━━━━━━━━━━━\u001b[0m \u001b[32m664.8/664.8 MB\u001b[0m \u001b[31m1.1 MB/s\u001b[0m eta \u001b[36m0:00:00\u001b[0m\n",
            "\u001b[2K   \u001b[90m━━━━━━━━━━━━━━━━━━━━━━━━━━━━━━━━━━━━━━━━\u001b[0m \u001b[32m211.5/211.5 MB\u001b[0m \u001b[31m5.9 MB/s\u001b[0m eta \u001b[36m0:00:00\u001b[0m\n",
            "\u001b[2K   \u001b[90m━━━━━━━━━━━━━━━━━━━━━━━━━━━━━━━━━━━━━━━━\u001b[0m \u001b[32m56.3/56.3 MB\u001b[0m \u001b[31m14.3 MB/s\u001b[0m eta \u001b[36m0:00:00\u001b[0m\n",
            "\u001b[2K   \u001b[90m━━━━━━━━━━━━━━━━━━━━━━━━━━━━━━━━━━━━━━━━\u001b[0m \u001b[32m127.9/127.9 MB\u001b[0m \u001b[31m7.5 MB/s\u001b[0m eta \u001b[36m0:00:00\u001b[0m\n",
            "\u001b[2K   \u001b[90m━━━━━━━━━━━━━━━━━━━━━━━━━━━━━━━━━━━━━━━━\u001b[0m \u001b[32m207.5/207.5 MB\u001b[0m \u001b[31m3.5 MB/s\u001b[0m eta \u001b[36m0:00:00\u001b[0m\n",
            "\u001b[2K   \u001b[90m━━━━━━━━━━━━━━━━━━━━━━━━━━━━━━━━━━━━━━━━\u001b[0m \u001b[32m188.7/188.7 MB\u001b[0m \u001b[31m6.1 MB/s\u001b[0m eta \u001b[36m0:00:00\u001b[0m\n",
            "\u001b[2K   \u001b[90m━━━━━━━━━━━━━━━━━━━━━━━━━━━━━━━━━━━━━━━━\u001b[0m \u001b[32m21.1/21.1 MB\u001b[0m \u001b[31m107.0 MB/s\u001b[0m eta \u001b[36m0:00:00\u001b[0m\n",
            "\u001b[?25h"
          ]
        }
      ],
      "source": [
        "#@title Load Dependencies\n",
        "!pip install -r requirements.txt --quiet"
      ]
    },
    {
      "cell_type": "code",
      "execution_count": 5,
      "metadata": {
        "colab": {
          "base_uri": "https://localhost:8080/"
        },
        "id": "4DCqEnbaYA6G",
        "outputId": "94c55391-4950-42ab-9296-fd7a2c5987e2"
      },
      "outputs": [
        {
          "output_type": "stream",
          "name": "stdout",
          "text": [
            "Using device: cuda\n",
            "Searching for grasp files in: ./data/**/*cpos.txt\n",
            "Found 885 grasp files.\n",
            "/usr/local/lib/python3.11/dist-packages/torch/utils/data/dataloader.py:624: UserWarning: This DataLoader will create 4 worker processes in total. Our suggested max number of worker in current system is 2, which is smaller than what this DataLoader is going to create. Please be aware that excessive worker creation might get DataLoader running slow or even freeze, lower the worker number to avoid potential slowness/freeze if necessary.\n",
            "  warnings.warn(\n",
            "Training on 797 samples, validating on 88 samples.\n",
            "\n",
            "--- Epoch 1/50 ---\n",
            "Epoch 1 Summary: Train Loss: 0.0403, Val Loss: 0.0564\n",
            "✅ New best model saved to ./outputs/models/grconvnet_best.pth\n",
            "\n",
            "--- Epoch 2/50 ---\n",
            "Epoch 2 Summary: Train Loss: 0.0288, Val Loss: 0.0272\n",
            "✅ New best model saved to ./outputs/models/grconvnet_best.pth\n",
            "\n",
            "--- Epoch 3/50 ---\n",
            "Epoch 3 Summary: Train Loss: 0.0268, Val Loss: 0.0868\n",
            "\n",
            "--- Epoch 4/50 ---\n",
            "Epoch 4 Summary: Train Loss: 0.0253, Val Loss: 0.0294\n",
            "\n",
            "--- Epoch 5/50 ---\n",
            "Epoch 5 Summary: Train Loss: 0.0245, Val Loss: 0.0631\n",
            "\n",
            "--- Epoch 6/50 ---\n",
            "Epoch 6 Summary: Train Loss: 0.0241, Val Loss: 0.1040\n",
            "\n",
            "--- Epoch 7/50 ---\n",
            "Epoch 7 Summary: Train Loss: 0.0239, Val Loss: 0.0404\n",
            "\n",
            "--- Epoch 8/50 ---\n",
            "Epoch 8 Summary: Train Loss: 0.0235, Val Loss: 0.0245\n",
            "✅ New best model saved to ./outputs/models/grconvnet_best.pth\n",
            "\n",
            "--- Epoch 9/50 ---\n",
            "Epoch 9 Summary: Train Loss: 0.0231, Val Loss: 0.0227\n",
            "✅ New best model saved to ./outputs/models/grconvnet_best.pth\n",
            "\n",
            "--- Epoch 10/50 ---\n",
            "Epoch 10 Summary: Train Loss: 0.0229, Val Loss: 0.0521\n",
            "\n",
            "--- Epoch 11/50 ---\n",
            "Epoch 11 Summary: Train Loss: 0.0233, Val Loss: 0.0282\n",
            "\n",
            "--- Epoch 12/50 ---\n",
            "Epoch 12 Summary: Train Loss: 0.0228, Val Loss: 0.0263\n",
            "\n",
            "--- Epoch 13/50 ---\n",
            "Epoch 13 Summary: Train Loss: 0.0226, Val Loss: 0.1441\n",
            "\n",
            "--- Epoch 14/50 ---\n",
            "Epoch 14 Summary: Train Loss: 0.0228, Val Loss: 0.0553\n",
            "\n",
            "--- Epoch 15/50 ---\n",
            "Epoch 15 Summary: Train Loss: 0.0219, Val Loss: 0.0225\n",
            "✅ New best model saved to ./outputs/models/grconvnet_best.pth\n",
            "\n",
            "--- Epoch 16/50 ---\n",
            "Epoch 16 Summary: Train Loss: 0.0220, Val Loss: 0.0668\n",
            "\n",
            "--- Epoch 17/50 ---\n",
            "Epoch 17 Summary: Train Loss: 0.0216, Val Loss: 0.0235\n",
            "\n",
            "--- Epoch 18/50 ---\n",
            "Epoch 18 Summary: Train Loss: 0.0213, Val Loss: 0.0213\n",
            "✅ New best model saved to ./outputs/models/grconvnet_best.pth\n",
            "\n",
            "--- Epoch 19/50 ---\n",
            "Epoch 19 Summary: Train Loss: 0.0212, Val Loss: 0.0231\n",
            "\n",
            "--- Epoch 20/50 ---\n",
            "Epoch 20 Summary: Train Loss: 0.0209, Val Loss: 0.0238\n",
            "\n",
            "--- Epoch 21/50 ---\n",
            "Epoch 21 Summary: Train Loss: 0.0210, Val Loss: 0.0228\n",
            "\n",
            "--- Epoch 22/50 ---\n",
            "Epoch 22 Summary: Train Loss: 0.0211, Val Loss: 0.0216\n",
            "\n",
            "--- Epoch 23/50 ---\n",
            "Epoch 23 Summary: Train Loss: 0.0207, Val Loss: 0.0282\n",
            "\n",
            "--- Epoch 24/50 ---\n",
            "Epoch 24 Summary: Train Loss: 0.0209, Val Loss: 0.0289\n",
            "\n",
            "--- Epoch 25/50 ---\n",
            "Epoch 25 Summary: Train Loss: 0.0197, Val Loss: 0.0223\n",
            "\n",
            "--- Epoch 26/50 ---\n",
            "Epoch 26 Summary: Train Loss: 0.0194, Val Loss: 0.0268\n",
            "\n",
            "--- Epoch 27/50 ---\n",
            "Epoch 27 Summary: Train Loss: 0.0192, Val Loss: 0.0210\n",
            "✅ New best model saved to ./outputs/models/grconvnet_best.pth\n",
            "\n",
            "--- Epoch 28/50 ---\n",
            "Epoch 28 Summary: Train Loss: 0.0192, Val Loss: 0.0252\n",
            "\n",
            "--- Epoch 29/50 ---\n",
            "Epoch 29 Summary: Train Loss: 0.0190, Val Loss: 0.0211\n",
            "\n",
            "--- Epoch 30/50 ---\n",
            "Epoch 30 Summary: Train Loss: 0.0189, Val Loss: 0.0203\n",
            "✅ New best model saved to ./outputs/models/grconvnet_best.pth\n",
            "\n",
            "--- Epoch 31/50 ---\n",
            "Epoch 31 Summary: Train Loss: 0.0185, Val Loss: 0.0252\n",
            "\n",
            "--- Epoch 32/50 ---\n",
            "Epoch 32 Summary: Train Loss: 0.0187, Val Loss: 0.0202\n",
            "✅ New best model saved to ./outputs/models/grconvnet_best.pth\n",
            "\n",
            "--- Epoch 33/50 ---\n",
            "Epoch 33 Summary: Train Loss: 0.0184, Val Loss: 0.0239\n",
            "\n",
            "--- Epoch 34/50 ---\n",
            "Epoch 34 Summary: Train Loss: 0.0187, Val Loss: 0.0258\n",
            "\n",
            "--- Epoch 35/50 ---\n",
            "Epoch 35 Summary: Train Loss: 0.0184, Val Loss: 0.0507\n",
            "\n",
            "--- Epoch 36/50 ---\n",
            "Epoch 36 Summary: Train Loss: 0.0179, Val Loss: 0.0198\n",
            "✅ New best model saved to ./outputs/models/grconvnet_best.pth\n",
            "\n",
            "--- Epoch 37/50 ---\n",
            "Epoch 37 Summary: Train Loss: 0.0179, Val Loss: 0.0221\n",
            "\n",
            "--- Epoch 38/50 ---\n",
            "Epoch 38 Summary: Train Loss: 0.0178, Val Loss: 0.0275\n",
            "\n",
            "--- Epoch 39/50 ---\n",
            "Epoch 39 Summary: Train Loss: 0.0179, Val Loss: 0.0431\n",
            "\n",
            "--- Epoch 40/50 ---\n",
            "Epoch 40 Summary: Train Loss: 0.0177, Val Loss: 0.0204\n",
            "\n",
            "--- Epoch 41/50 ---\n",
            "Epoch 41 Summary: Train Loss: 0.0174, Val Loss: 0.0241\n",
            "\n",
            "--- Epoch 42/50 ---\n",
            "Epoch 42 Summary: Train Loss: 0.0176, Val Loss: 0.0194\n",
            "✅ New best model saved to ./outputs/models/grconvnet_best.pth\n",
            "\n",
            "--- Epoch 43/50 ---\n",
            "Epoch 43 Summary: Train Loss: 0.0175, Val Loss: 0.0199\n",
            "\n",
            "--- Epoch 44/50 ---\n",
            "Epoch 44 Summary: Train Loss: 0.0171, Val Loss: 0.0281\n",
            "\n",
            "--- Epoch 45/50 ---\n",
            "Epoch 45 Summary: Train Loss: 0.0172, Val Loss: 0.0325\n",
            "\n",
            "--- Epoch 46/50 ---\n",
            "Epoch 46 Summary: Train Loss: 0.0171, Val Loss: 0.0211\n",
            "\n",
            "--- Epoch 47/50 ---\n",
            "Epoch 47 Summary: Train Loss: 0.0171, Val Loss: 0.0237\n",
            "\n",
            "--- Epoch 48/50 ---\n",
            "Epoch 48 Summary: Train Loss: 0.0167, Val Loss: 0.0217\n",
            "\n",
            "--- Epoch 49/50 ---\n",
            "Epoch 49 Summary: Train Loss: 0.0162, Val Loss: 0.0194\n",
            "\n",
            "--- Epoch 50/50 ---\n",
            "Epoch 50 Summary: Train Loss: 0.0161, Val Loss: 0.0213\n",
            "Figure(1000x500)\n",
            "Training complete.\n"
          ]
        }
      ],
      "source": [
        "!python train.py"
      ]
    },
    {
      "cell_type": "code",
      "execution_count": 8,
      "metadata": {
        "colab": {
          "base_uri": "https://localhost:8080/"
        },
        "id": "FQo1E1BtaHAh",
        "outputId": "41b44183-b758-4d3b-e070-d31bce26af87"
      },
      "outputs": [
        {
          "output_type": "stream",
          "name": "stdout",
          "text": [
            "Using device: cuda\n",
            "Searching for grasp files in: ./data/**/*cpos.txt\n",
            "Found 885 grasp files.\n",
            "\n",
            "Visualizing sample 1/5...\n",
            "Figure(2000x500)\n",
            "✅ Visualization saved to ./outputs/visualizations/prediction_01.png\n",
            "\n",
            "Visualizing sample 2/5...\n",
            "Figure(2000x500)\n",
            "✅ Visualization saved to ./outputs/visualizations/prediction_02.png\n",
            "\n",
            "Visualizing sample 3/5...\n",
            "Figure(2000x500)\n",
            "✅ Visualization saved to ./outputs/visualizations/prediction_03.png\n",
            "\n",
            "Visualizing sample 4/5...\n",
            "Figure(2000x500)\n",
            "✅ Visualization saved to ./outputs/visualizations/prediction_04.png\n",
            "\n",
            "Visualizing sample 5/5...\n",
            "Figure(2000x500)\n",
            "✅ Visualization saved to ./outputs/visualizations/prediction_05.png\n"
          ]
        }
      ],
      "source": [
        "!python predict.py"
      ]
    },
    {
      "cell_type": "code",
      "source": [
        "!python evaluate.py"
      ],
      "metadata": {
        "colab": {
          "base_uri": "https://localhost:8080/"
        },
        "id": "y4c8jDv8nagS",
        "outputId": "367669ec-84b6-4805-de35-4b1cb754df9e"
      },
      "execution_count": 9,
      "outputs": [
        {
          "output_type": "stream",
          "name": "stdout",
          "text": [
            "Using device: cuda\n",
            "Searching for grasp files in: ./data/**/*cpos.txt\n",
            "Found 885 grasp files.\n",
            "Evaluating on 88 samples...\n",
            "Evaluating: 100% 88/88 [00:02<00:00, 31.52it/s]\n",
            "\n",
            "--- Evaluation Complete ---\n",
            "Total Grasps Evaluated: 88\n",
            "Correct Grasps: 62\n",
            "Accuracy: 70.45%\n",
            "Average IoU for Correct Grasps: 0.420\n",
            "Average Angle Error for Correct Grasps: 10.02°\n",
            "Figure(1800x500)\n",
            "✅ Evaluation plots saved to ./outputs/evaluation/evaluation_summary.png\n"
          ]
        }
      ]
    },
    {
      "cell_type": "code",
      "source": [
        "#@title Download Outputs\n",
        "import shutil\n",
        "from google.colab import files\n",
        "import os\n",
        "\n",
        "# Define the path to the folder you want to zip\n",
        "folder_to_zip = 'outputs'\n",
        "\n",
        "# Define the name for the output zip file\n",
        "output_zip_name = 'outputs'\n",
        "\n",
        "# Check if the folder exists before trying to zip it\n",
        "if os.path.exists(folder_to_zip):\n",
        "    # Create the zip archive\n",
        "    print(f\"Zipping the '{folder_to_zip}' directory...\")\n",
        "    shutil.make_archive(output_zip_name, 'zip', folder_to_zip)\n",
        "\n",
        "    # Trigger the download of the created zip file\n",
        "    print(f\"✅ Zipping complete. Starting download of '{output_zip_name}.zip'...\")\n",
        "    files.download(f'{output_zip_name}.zip')\n",
        "else:\n",
        "    print(f\"Error: The directory '{folder_to_zip}' does not exist in the current location.\")"
      ],
      "metadata": {
        "id": "tVo-G8gHuWHq",
        "colab": {
          "base_uri": "https://localhost:8080/",
          "height": 52
        },
        "cellView": "form",
        "outputId": "39a91975-235f-45c1-bff6-37adec96cd85"
      },
      "execution_count": 11,
      "outputs": [
        {
          "output_type": "stream",
          "name": "stdout",
          "text": [
            "Zipping the 'outputs' directory...\n",
            "✅ Zipping complete. Starting download of 'outputs.zip'...\n"
          ]
        },
        {
          "output_type": "display_data",
          "data": {
            "text/plain": [
              "<IPython.core.display.Javascript object>"
            ],
            "application/javascript": [
              "\n",
              "    async function download(id, filename, size) {\n",
              "      if (!google.colab.kernel.accessAllowed) {\n",
              "        return;\n",
              "      }\n",
              "      const div = document.createElement('div');\n",
              "      const label = document.createElement('label');\n",
              "      label.textContent = `Downloading \"${filename}\": `;\n",
              "      div.appendChild(label);\n",
              "      const progress = document.createElement('progress');\n",
              "      progress.max = size;\n",
              "      div.appendChild(progress);\n",
              "      document.body.appendChild(div);\n",
              "\n",
              "      const buffers = [];\n",
              "      let downloaded = 0;\n",
              "\n",
              "      const channel = await google.colab.kernel.comms.open(id);\n",
              "      // Send a message to notify the kernel that we're ready.\n",
              "      channel.send({})\n",
              "\n",
              "      for await (const message of channel.messages) {\n",
              "        // Send a message to notify the kernel that we're ready.\n",
              "        channel.send({})\n",
              "        if (message.buffers) {\n",
              "          for (const buffer of message.buffers) {\n",
              "            buffers.push(buffer);\n",
              "            downloaded += buffer.byteLength;\n",
              "            progress.value = downloaded;\n",
              "          }\n",
              "        }\n",
              "      }\n",
              "      const blob = new Blob(buffers, {type: 'application/binary'});\n",
              "      const a = document.createElement('a');\n",
              "      a.href = window.URL.createObjectURL(blob);\n",
              "      a.download = filename;\n",
              "      div.appendChild(a);\n",
              "      a.click();\n",
              "      div.remove();\n",
              "    }\n",
              "  "
            ]
          },
          "metadata": {}
        },
        {
          "output_type": "display_data",
          "data": {
            "text/plain": [
              "<IPython.core.display.Javascript object>"
            ],
            "application/javascript": [
              "download(\"download_74ebe716-a98c-422b-aac5-f8a08f3b352b\", \"outputs.zip\", 7809559)"
            ]
          },
          "metadata": {}
        }
      ]
    },
    {
      "cell_type": "code",
      "source": [],
      "metadata": {
        "id": "ittofOG7BY5w"
      },
      "execution_count": null,
      "outputs": []
    }
  ],
  "metadata": {
    "accelerator": "GPU",
    "colab": {
      "gpuType": "T4",
      "provenance": [],
      "include_colab_link": true
    },
    "kernelspec": {
      "display_name": "Python 3",
      "name": "python3"
    },
    "language_info": {
      "name": "python"
    }
  },
  "nbformat": 4,
  "nbformat_minor": 0
}